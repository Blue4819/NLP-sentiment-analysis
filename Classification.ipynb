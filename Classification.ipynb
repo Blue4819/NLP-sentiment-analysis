{
 "cells": [
  {
   "cell_type": "code",
   "execution_count": 22,
   "metadata": {},
   "outputs": [
    {
     "data": {
      "text/html": [
       "<div>\n",
       "<style scoped>\n",
       "    .dataframe tbody tr th:only-of-type {\n",
       "        vertical-align: middle;\n",
       "    }\n",
       "\n",
       "    .dataframe tbody tr th {\n",
       "        vertical-align: top;\n",
       "    }\n",
       "\n",
       "    .dataframe thead th {\n",
       "        text-align: right;\n",
       "    }\n",
       "</style>\n",
       "<table border=\"1\" class=\"dataframe\">\n",
       "  <thead>\n",
       "    <tr style=\"text-align: right;\">\n",
       "      <th></th>\n",
       "      <th>productAsin</th>\n",
       "      <th>country</th>\n",
       "      <th>date</th>\n",
       "      <th>isVerified</th>\n",
       "      <th>ratingScore</th>\n",
       "      <th>reviewUrl</th>\n",
       "      <th>reviewedIn</th>\n",
       "      <th>variant</th>\n",
       "      <th>variantAsin</th>\n",
       "      <th>reviews</th>\n",
       "    </tr>\n",
       "  </thead>\n",
       "  <tbody>\n",
       "    <tr>\n",
       "      <th>0</th>\n",
       "      <td>B09G9BL5CP</td>\n",
       "      <td>India</td>\n",
       "      <td>11-08-2024</td>\n",
       "      <td>True</td>\n",
       "      <td>4</td>\n",
       "      <td>https://www.amazon.in/gp/customer-reviews/R345...</td>\n",
       "      <td>Reviewed in India on 11 August 2024</td>\n",
       "      <td>Colour: MidnightSize: 256 GB</td>\n",
       "      <td>B09G9BQS98</td>\n",
       "      <td>charger every thing good iphones nothing compa...</td>\n",
       "    </tr>\n",
       "    <tr>\n",
       "      <th>1</th>\n",
       "      <td>B09G9BL5CP</td>\n",
       "      <td>India</td>\n",
       "      <td>16-08-2024</td>\n",
       "      <td>True</td>\n",
       "      <td>5</td>\n",
       "      <td>https://www.amazon.in/gp/customer-reviews/R2HJ...</td>\n",
       "      <td>Reviewed in India on 16 August 2024</td>\n",
       "      <td>Colour: MidnightSize: 256 GB</td>\n",
       "      <td>B09G9BQS98</td>\n",
       "      <td>iphone gb look fabulous android user switched ...</td>\n",
       "    </tr>\n",
       "    <tr>\n",
       "      <th>2</th>\n",
       "      <td>B09G9BL5CP</td>\n",
       "      <td>India</td>\n",
       "      <td>14-05-2024</td>\n",
       "      <td>True</td>\n",
       "      <td>4</td>\n",
       "      <td>https://www.amazon.in/gp/customer-reviews/R3Y7...</td>\n",
       "      <td>Reviewed in India on 14 May 2024</td>\n",
       "      <td>Colour: MidnightSize: 256 GB</td>\n",
       "      <td>B09G9BQS98</td>\n",
       "      <td>flip camera option nill tried flip camera reco...</td>\n",
       "    </tr>\n",
       "    <tr>\n",
       "      <th>3</th>\n",
       "      <td>B09G9BL5CP</td>\n",
       "      <td>India</td>\n",
       "      <td>24-06-2024</td>\n",
       "      <td>True</td>\n",
       "      <td>5</td>\n",
       "      <td>https://www.amazon.in/gp/customer-reviews/R1P9...</td>\n",
       "      <td>Reviewed in India on 24 June 2024</td>\n",
       "      <td>Colour: MidnightSize: 256 GB</td>\n",
       "      <td>B09G9BQS98</td>\n",
       "      <td>product genuine</td>\n",
       "    </tr>\n",
       "    <tr>\n",
       "      <th>4</th>\n",
       "      <td>B09G9BL5CP</td>\n",
       "      <td>India</td>\n",
       "      <td>18-05-2024</td>\n",
       "      <td>True</td>\n",
       "      <td>5</td>\n",
       "      <td>https://www.amazon.in/gp/customer-reviews/R1XI...</td>\n",
       "      <td>Reviewed in India on 18 May 2024</td>\n",
       "      <td>Colour: MidnightSize: 256 GB</td>\n",
       "      <td>B09G9BQS98</td>\n",
       "      <td>good product happy get iphone amazon offer</td>\n",
       "    </tr>\n",
       "  </tbody>\n",
       "</table>\n",
       "</div>"
      ],
      "text/plain": [
       "  productAsin country        date  isVerified  ratingScore  \\\n",
       "0  B09G9BL5CP   India  11-08-2024        True            4   \n",
       "1  B09G9BL5CP   India  16-08-2024        True            5   \n",
       "2  B09G9BL5CP   India  14-05-2024        True            4   \n",
       "3  B09G9BL5CP   India  24-06-2024        True            5   \n",
       "4  B09G9BL5CP   India  18-05-2024        True            5   \n",
       "\n",
       "                                           reviewUrl  \\\n",
       "0  https://www.amazon.in/gp/customer-reviews/R345...   \n",
       "1  https://www.amazon.in/gp/customer-reviews/R2HJ...   \n",
       "2  https://www.amazon.in/gp/customer-reviews/R3Y7...   \n",
       "3  https://www.amazon.in/gp/customer-reviews/R1P9...   \n",
       "4  https://www.amazon.in/gp/customer-reviews/R1XI...   \n",
       "\n",
       "                            reviewedIn                       variant  \\\n",
       "0  Reviewed in India on 11 August 2024  Colour: MidnightSize: 256 GB   \n",
       "1  Reviewed in India on 16 August 2024  Colour: MidnightSize: 256 GB   \n",
       "2     Reviewed in India on 14 May 2024  Colour: MidnightSize: 256 GB   \n",
       "3    Reviewed in India on 24 June 2024  Colour: MidnightSize: 256 GB   \n",
       "4     Reviewed in India on 18 May 2024  Colour: MidnightSize: 256 GB   \n",
       "\n",
       "  variantAsin                                            reviews  \n",
       "0  B09G9BQS98  charger every thing good iphones nothing compa...  \n",
       "1  B09G9BQS98  iphone gb look fabulous android user switched ...  \n",
       "2  B09G9BQS98  flip camera option nill tried flip camera reco...  \n",
       "3  B09G9BQS98                                    product genuine  \n",
       "4  B09G9BQS98         good product happy get iphone amazon offer  "
      ]
     },
     "execution_count": 22,
     "metadata": {},
     "output_type": "execute_result"
    }
   ],
   "source": [
    "import pandas as pd\n",
    "\n",
    "df = pd.read_pickle('preprocesseddf.pkl')\n",
    "df.head()"
   ]
  },
  {
   "cell_type": "code",
   "execution_count": 23,
   "metadata": {},
   "outputs": [
    {
     "name": "stderr",
     "output_type": "stream",
     "text": [
      "[nltk_data] Downloading package vader_lexicon to\n",
      "[nltk_data]     C:\\Users\\Prachi\\AppData\\Roaming\\nltk_data...\n",
      "[nltk_data]   Package vader_lexicon is already up-to-date!\n"
     ]
    },
    {
     "data": {
      "text/plain": [
       "True"
      ]
     },
     "execution_count": 23,
     "metadata": {},
     "output_type": "execute_result"
    }
   ],
   "source": [
    "import nltk\n",
    "from nltk.sentiment import SentimentIntensityAnalyzer\n",
    "from sklearn.metrics import accuracy_score, classification_report\n",
    "\n",
    "# Download necessary NLTK data\n",
    "nltk.download('vader_lexicon')"
   ]
  },
  {
   "cell_type": "code",
   "execution_count": 24,
   "metadata": {},
   "outputs": [],
   "source": [
    "# Initialize the VADER sentiment analyzer\n",
    "sia = SentimentIntensityAnalyzer()"
   ]
  },
  {
   "cell_type": "code",
   "execution_count": 25,
   "metadata": {},
   "outputs": [],
   "source": [
    "# Perform sentiment analysis on the 'reviews' column\n",
    "df['sentiment_scores'] = df['reviews'].apply(lambda x: sia.polarity_scores(x)['compound'])\n",
    "\n",
    "# Classify sentiment as positive or negative\n",
    "df['sentiment'] = df['sentiment_scores'].apply(lambda x: 'positive' if x >= 0 else 'negative')\n"
   ]
  },
  {
   "cell_type": "code",
   "execution_count": 26,
   "metadata": {},
   "outputs": [
    {
     "name": "stdout",
     "output_type": "stream",
     "text": [
      "Accuracy of sentiment analysis compared to ratings: 0.81\n"
     ]
    }
   ],
   "source": [
    "#Accuracy\n",
    "\n",
    "# Convert rating scores to binary sentiment (positive/negative)\n",
    "df['rating_sentiment'] = df['ratingScore'].apply(lambda x: 'positive' if x > 3 else 'negative')\n",
    "\n",
    "accuracy = accuracy_score(df['rating_sentiment'], df['sentiment'])\n",
    "print(f\"Accuracy of sentiment analysis compared to ratings: {accuracy:.2f}\")\n"
   ]
  },
  {
   "cell_type": "code",
   "execution_count": 27,
   "metadata": {},
   "outputs": [
    {
     "name": "stdout",
     "output_type": "stream",
     "text": [
      "Classification Report:\n",
      "              precision    recall  f1-score   support\n",
      "\n",
      "    negative       0.85      0.49      0.62       997\n",
      "    positive       0.80      0.96      0.87      2065\n",
      "\n",
      "    accuracy                           0.81      3062\n",
      "   macro avg       0.82      0.72      0.75      3062\n",
      "weighted avg       0.81      0.81      0.79      3062\n",
      "\n"
     ]
    }
   ],
   "source": [
    "# Generate a classification report\n",
    "report = classification_report(df['rating_sentiment'], df['sentiment'])\n",
    "print(\"Classification Report:\")\n",
    "print(report)"
   ]
  },
  {
   "cell_type": "code",
   "execution_count": 28,
   "metadata": {},
   "outputs": [
    {
     "data": {
      "text/html": [
       "<div>\n",
       "<style scoped>\n",
       "    .dataframe tbody tr th:only-of-type {\n",
       "        vertical-align: middle;\n",
       "    }\n",
       "\n",
       "    .dataframe tbody tr th {\n",
       "        vertical-align: top;\n",
       "    }\n",
       "\n",
       "    .dataframe thead th {\n",
       "        text-align: right;\n",
       "    }\n",
       "</style>\n",
       "<table border=\"1\" class=\"dataframe\">\n",
       "  <thead>\n",
       "    <tr style=\"text-align: right;\">\n",
       "      <th></th>\n",
       "      <th>reviews</th>\n",
       "      <th>ratingScore</th>\n",
       "      <th>sentiment_scores</th>\n",
       "      <th>sentiment</th>\n",
       "      <th>rating_sentiment</th>\n",
       "    </tr>\n",
       "  </thead>\n",
       "  <tbody>\n",
       "    <tr>\n",
       "      <th>0</th>\n",
       "      <td>charger every thing good iphones nothing compa...</td>\n",
       "      <td>4</td>\n",
       "      <td>0.7650</td>\n",
       "      <td>positive</td>\n",
       "      <td>positive</td>\n",
       "    </tr>\n",
       "    <tr>\n",
       "      <th>1</th>\n",
       "      <td>iphone gb look fabulous android user switched ...</td>\n",
       "      <td>5</td>\n",
       "      <td>0.9545</td>\n",
       "      <td>positive</td>\n",
       "      <td>positive</td>\n",
       "    </tr>\n",
       "    <tr>\n",
       "      <th>2</th>\n",
       "      <td>flip camera option nill tried flip camera reco...</td>\n",
       "      <td>4</td>\n",
       "      <td>-0.1531</td>\n",
       "      <td>negative</td>\n",
       "      <td>positive</td>\n",
       "    </tr>\n",
       "    <tr>\n",
       "      <th>3</th>\n",
       "      <td>product genuine</td>\n",
       "      <td>5</td>\n",
       "      <td>0.0000</td>\n",
       "      <td>positive</td>\n",
       "      <td>positive</td>\n",
       "    </tr>\n",
       "    <tr>\n",
       "      <th>4</th>\n",
       "      <td>good product happy get iphone amazon offer</td>\n",
       "      <td>5</td>\n",
       "      <td>0.8074</td>\n",
       "      <td>positive</td>\n",
       "      <td>positive</td>\n",
       "    </tr>\n",
       "  </tbody>\n",
       "</table>\n",
       "</div>"
      ],
      "text/plain": [
       "                                             reviews  ratingScore  \\\n",
       "0  charger every thing good iphones nothing compa...            4   \n",
       "1  iphone gb look fabulous android user switched ...            5   \n",
       "2  flip camera option nill tried flip camera reco...            4   \n",
       "3                                    product genuine            5   \n",
       "4         good product happy get iphone amazon offer            5   \n",
       "\n",
       "   sentiment_scores sentiment rating_sentiment  \n",
       "0            0.7650  positive         positive  \n",
       "1            0.9545  positive         positive  \n",
       "2           -0.1531  negative         positive  \n",
       "3            0.0000  positive         positive  \n",
       "4            0.8074  positive         positive  "
      ]
     },
     "execution_count": 28,
     "metadata": {},
     "output_type": "execute_result"
    }
   ],
   "source": [
    "\n",
    "# Display the first few rows with new columns\n",
    "df[['reviews', 'ratingScore', 'sentiment_scores', 'sentiment', 'rating_sentiment']].head()"
   ]
  },
  {
   "cell_type": "code",
   "execution_count": 29,
   "metadata": {},
   "outputs": [],
   "source": [
    "df.to_pickle('sentiment_analysis_df.pkl')"
   ]
  },
  {
   "cell_type": "code",
   "execution_count": 30,
   "metadata": {},
   "outputs": [
    {
     "name": "stdout",
     "output_type": "stream",
     "text": [
      "Number of positive sentiment reviews: 2490\n",
      "Number of negative sentiment reviews: 572\n"
     ]
    }
   ],
   "source": [
    "# Split the DataFrame based on sentiment\n",
    "positive_df = df[df['sentiment'] == 'positive']\n",
    "negative_df = df[df['sentiment'] == 'negative']\n",
    "\n",
    "print(f\"Number of positive sentiment reviews: {len(positive_df)}\")\n",
    "print(f\"Number of negative sentiment reviews: {len(negative_df)}\")"
   ]
  },
  {
   "cell_type": "code",
   "execution_count": 31,
   "metadata": {},
   "outputs": [],
   "source": [
    "# Split the DataFrame based on sentiment\n",
    "positive1_df = df[df['rating_sentiment'] == 'positive']\n",
    "negative1_df = df[df['rating_sentiment'] == 'negative']\n",
    "\n",
    "# Save the split DataFrames as pickle files\n",
    "positive1_df.to_pickle('positive_sentiment_df.pkl')\n",
    "negative1_df.to_pickle('negative_sentiment_df.pkl')\n",
    "\n",
    "print(f\"Number of positive sentiment reviews: {len(positive1_df)}\")\n",
    "print(f\"Number of negative sentiment reviews: {len(negative1_df)}\")"
   ]
  }
 ],
 "metadata": {
  "kernelspec": {
   "display_name": "Python 3 (ipykernel)",
   "language": "python",
   "name": "python3"
  },
  "language_info": {
   "codemirror_mode": {
    "name": "ipython",
    "version": 3
   },
   "file_extension": ".py",
   "mimetype": "text/x-python",
   "name": "python",
   "nbconvert_exporter": "python",
   "pygments_lexer": "ipython3",
   "version": "3.11.0"
  }
 },
 "nbformat": 4,
 "nbformat_minor": 4
}
