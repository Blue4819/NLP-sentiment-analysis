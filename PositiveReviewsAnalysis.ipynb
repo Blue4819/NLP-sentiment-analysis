{
 "cells": [
  {
   "cell_type": "code",
   "execution_count": 8,
   "id": "574bccb3-979d-4b4c-8732-d736e1527b43",
   "metadata": {},
   "outputs": [
    {
     "data": {
      "text/html": [
       "<div>\n",
       "<style scoped>\n",
       "    .dataframe tbody tr th:only-of-type {\n",
       "        vertical-align: middle;\n",
       "    }\n",
       "\n",
       "    .dataframe tbody tr th {\n",
       "        vertical-align: top;\n",
       "    }\n",
       "\n",
       "    .dataframe thead th {\n",
       "        text-align: right;\n",
       "    }\n",
       "</style>\n",
       "<table border=\"1\" class=\"dataframe\">\n",
       "  <thead>\n",
       "    <tr style=\"text-align: right;\">\n",
       "      <th></th>\n",
       "      <th>productAsin</th>\n",
       "      <th>country</th>\n",
       "      <th>date</th>\n",
       "      <th>isVerified</th>\n",
       "      <th>ratingScore</th>\n",
       "      <th>reviewUrl</th>\n",
       "      <th>reviewedIn</th>\n",
       "      <th>variant</th>\n",
       "      <th>variantAsin</th>\n",
       "      <th>reviews</th>\n",
       "      <th>sentiment_scores</th>\n",
       "      <th>sentiment</th>\n",
       "      <th>rating_sentiment</th>\n",
       "    </tr>\n",
       "  </thead>\n",
       "  <tbody>\n",
       "    <tr>\n",
       "      <th>0</th>\n",
       "      <td>B09G9BL5CP</td>\n",
       "      <td>India</td>\n",
       "      <td>11-08-2024</td>\n",
       "      <td>True</td>\n",
       "      <td>4</td>\n",
       "      <td>https://www.amazon.in/gp/customer-reviews/R345...</td>\n",
       "      <td>Reviewed in India on 11 August 2024</td>\n",
       "      <td>Colour: MidnightSize: 256 GB</td>\n",
       "      <td>B09G9BQS98</td>\n",
       "      <td>charger every thing good iphones nothing compa...</td>\n",
       "      <td>0.7650</td>\n",
       "      <td>positive</td>\n",
       "      <td>positive</td>\n",
       "    </tr>\n",
       "    <tr>\n",
       "      <th>1</th>\n",
       "      <td>B09G9BL5CP</td>\n",
       "      <td>India</td>\n",
       "      <td>16-08-2024</td>\n",
       "      <td>True</td>\n",
       "      <td>5</td>\n",
       "      <td>https://www.amazon.in/gp/customer-reviews/R2HJ...</td>\n",
       "      <td>Reviewed in India on 16 August 2024</td>\n",
       "      <td>Colour: MidnightSize: 256 GB</td>\n",
       "      <td>B09G9BQS98</td>\n",
       "      <td>iphone gb look fabulous android user switched ...</td>\n",
       "      <td>0.9545</td>\n",
       "      <td>positive</td>\n",
       "      <td>positive</td>\n",
       "    </tr>\n",
       "    <tr>\n",
       "      <th>2</th>\n",
       "      <td>B09G9BL5CP</td>\n",
       "      <td>India</td>\n",
       "      <td>14-05-2024</td>\n",
       "      <td>True</td>\n",
       "      <td>4</td>\n",
       "      <td>https://www.amazon.in/gp/customer-reviews/R3Y7...</td>\n",
       "      <td>Reviewed in India on 14 May 2024</td>\n",
       "      <td>Colour: MidnightSize: 256 GB</td>\n",
       "      <td>B09G9BQS98</td>\n",
       "      <td>flip camera option nill tried flip camera reco...</td>\n",
       "      <td>-0.1531</td>\n",
       "      <td>negative</td>\n",
       "      <td>positive</td>\n",
       "    </tr>\n",
       "    <tr>\n",
       "      <th>3</th>\n",
       "      <td>B09G9BL5CP</td>\n",
       "      <td>India</td>\n",
       "      <td>24-06-2024</td>\n",
       "      <td>True</td>\n",
       "      <td>5</td>\n",
       "      <td>https://www.amazon.in/gp/customer-reviews/R1P9...</td>\n",
       "      <td>Reviewed in India on 24 June 2024</td>\n",
       "      <td>Colour: MidnightSize: 256 GB</td>\n",
       "      <td>B09G9BQS98</td>\n",
       "      <td>product genuine</td>\n",
       "      <td>0.0000</td>\n",
       "      <td>positive</td>\n",
       "      <td>positive</td>\n",
       "    </tr>\n",
       "    <tr>\n",
       "      <th>4</th>\n",
       "      <td>B09G9BL5CP</td>\n",
       "      <td>India</td>\n",
       "      <td>18-05-2024</td>\n",
       "      <td>True</td>\n",
       "      <td>5</td>\n",
       "      <td>https://www.amazon.in/gp/customer-reviews/R1XI...</td>\n",
       "      <td>Reviewed in India on 18 May 2024</td>\n",
       "      <td>Colour: MidnightSize: 256 GB</td>\n",
       "      <td>B09G9BQS98</td>\n",
       "      <td>good product happy get iphone amazon offer</td>\n",
       "      <td>0.8074</td>\n",
       "      <td>positive</td>\n",
       "      <td>positive</td>\n",
       "    </tr>\n",
       "  </tbody>\n",
       "</table>\n",
       "</div>"
      ],
      "text/plain": [
       "  productAsin country        date  isVerified  ratingScore  \\\n",
       "0  B09G9BL5CP   India  11-08-2024        True            4   \n",
       "1  B09G9BL5CP   India  16-08-2024        True            5   \n",
       "2  B09G9BL5CP   India  14-05-2024        True            4   \n",
       "3  B09G9BL5CP   India  24-06-2024        True            5   \n",
       "4  B09G9BL5CP   India  18-05-2024        True            5   \n",
       "\n",
       "                                           reviewUrl  \\\n",
       "0  https://www.amazon.in/gp/customer-reviews/R345...   \n",
       "1  https://www.amazon.in/gp/customer-reviews/R2HJ...   \n",
       "2  https://www.amazon.in/gp/customer-reviews/R3Y7...   \n",
       "3  https://www.amazon.in/gp/customer-reviews/R1P9...   \n",
       "4  https://www.amazon.in/gp/customer-reviews/R1XI...   \n",
       "\n",
       "                            reviewedIn                       variant  \\\n",
       "0  Reviewed in India on 11 August 2024  Colour: MidnightSize: 256 GB   \n",
       "1  Reviewed in India on 16 August 2024  Colour: MidnightSize: 256 GB   \n",
       "2     Reviewed in India on 14 May 2024  Colour: MidnightSize: 256 GB   \n",
       "3    Reviewed in India on 24 June 2024  Colour: MidnightSize: 256 GB   \n",
       "4     Reviewed in India on 18 May 2024  Colour: MidnightSize: 256 GB   \n",
       "\n",
       "  variantAsin                                            reviews  \\\n",
       "0  B09G9BQS98  charger every thing good iphones nothing compa...   \n",
       "1  B09G9BQS98  iphone gb look fabulous android user switched ...   \n",
       "2  B09G9BQS98  flip camera option nill tried flip camera reco...   \n",
       "3  B09G9BQS98                                    product genuine   \n",
       "4  B09G9BQS98         good product happy get iphone amazon offer   \n",
       "\n",
       "   sentiment_scores sentiment rating_sentiment  \n",
       "0            0.7650  positive         positive  \n",
       "1            0.9545  positive         positive  \n",
       "2           -0.1531  negative         positive  \n",
       "3            0.0000  positive         positive  \n",
       "4            0.8074  positive         positive  "
      ]
     },
     "execution_count": 8,
     "metadata": {},
     "output_type": "execute_result"
    }
   ],
   "source": [
    "import pandas as pd\n",
    "\n",
    "df = pd.read_pickle('positive_sentiment_df.pkl')\n",
    "df.head()"
   ]
  },
  {
   "cell_type": "code",
   "execution_count": 18,
   "id": "6c105de4-cac3-4bb6-ac1b-2eded07bebea",
   "metadata": {},
   "outputs": [],
   "source": [
    "import nltk\n",
    "from nltk.tokenize import word_tokenize\n",
    "\n",
    "generic_words = {'phone', 'great', 'good', 'excellent', 'amazing', 'best', 'love', 'like', 'nice', 'product', ' ', '\\u200e', '\\'', '’'}\n",
    "\n",
    "def extract_words(review):\n",
    "    words = word_tokenize(review.lower())\n",
    "    return [word for word in words if word not in generic_words]\n",
    "\n",
    "important_words = []\n",
    "for review in df['reviews']:\n",
    "    important_words.extend(extract_words(review))"
   ]
  },
  {
   "cell_type": "code",
   "execution_count": 19,
   "id": "57b0937b",
   "metadata": {},
   "outputs": [],
   "source": [
    "from collections import Counter\n",
    "\n",
    "word_counts = Counter(important_words)\n",
    "top_words = word_counts.most_common(10)"
   ]
  },
  {
   "cell_type": "code",
   "execution_count": 20,
   "id": "d804140e-0c20-4dbf-967a-91f23958acb6",
   "metadata": {},
   "outputs": [
    {
     "name": "stdout",
     "output_type": "stream",
     "text": [
      "[('iphone', 1120), ('battery', 584), ('camera', 534), ('not', 393), ('quality', 382), ('apple', 342), ('new', 330), ('android', 275), ('one', 254), ('life', 234)]\n"
     ]
    }
   ],
   "source": [
    "print(top_words)"
   ]
  },
  {
   "cell_type": "code",
   "execution_count": 21,
   "id": "402e12b1",
   "metadata": {},
   "outputs": [
    {
     "data": {
      "image/png": "[encoded data removed]",
      "text/plain": [
       "<Figure size 1200x600 with 1 Axes>"
      ]
     },
     "metadata": {},
     "output_type": "display_data"
    }
   ],
   "source": [
    "import matplotlib.pyplot as plt\n",
    "\n",
    "plt.figure(figsize=(12, 6))\n",
    "plt.bar([word for word, count in top_words], [count for word, count in top_words])\n",
    "plt.title('Top 10 Most Mentioned Words in Positive Reviews')\n",
    "plt.xlabel('Words')\n",
    "plt.ylabel('Frequency')\n",
    "plt.xticks(rotation=45)\n",
    "plt.tight_layout()\n",
    "plt.show()"
   ]
  },
  {
   "cell_type": "code",
   "execution_count": 22,
   "id": "00e702f9",
   "metadata": {},
   "outputs": [],
   "source": [
    "word_sentiments = {}\n",
    "for word, _ in top_words:\n",
    "    word_reviews = df[df['reviews'].str.contains(word, case=False)]\n",
    "    word_sentiments[word] = word_reviews['sentiment_scores'].mean()"
   ]
  },
  {
   "cell_type": "code",
   "execution_count": 23,
   "id": "174adb36",
   "metadata": {},
   "outputs": [
    {
     "name": "stdout",
     "output_type": "stream",
     "text": [
      "\n",
      "Average sentiment scores for top words:\n",
      "iphone: 0.7463\n",
      "battery: 0.7717\n",
      "camera: 0.8038\n",
      "not: 0.6696\n",
      "quality: 0.7617\n",
      "apple: 0.7575\n",
      "new: 0.7855\n",
      "android: 0.8341\n",
      "one: 0.7258\n",
      "life: 0.8573\n"
     ]
    }
   ],
   "source": [
    "print(\"\\nAverage sentiment scores for top words:\")\n",
    "for word, score in word_sentiments.items():\n",
    "    print(f\"{word}: {score:.4f}\")"
   ]
  },
  {
   "cell_type": "code",
   "execution_count": null,
   "id": "82d022ac-4c53-47bb-a659-7fd2f1a631fc",
   "metadata": {},
   "outputs": [],
   "source": [
    "import pandas as pd\n",
    "import matplotlib.pyplot as plt\n",
    "\n",
    "# Load the sentiment analysis DataFrame\n",
    "df = pd.read_pickle('sentiment_analysis_df.pkl')\n",
    "\n",
    "# Define categories based on sentiment scores\n",
    "def categorize_sentiment(score):\n",
    "    if score >= 0.6:\n",
    "        return 'Most Likely to Recommend'\n",
    "    elif 0.2 <= score < 0.6:\n",
    "        return 'Might Recommend'\n",
    "    else:\n",
    "        return 'Least Likely to Recommend'\n",
    "\n",
    "df['recommendation_category'] = df['sentiment_scores'].apply(categorize_sentiment)\n",
    "\n",
    "# Calculate percentages for each category\n",
    "category_counts = df['recommendation_category'].value_counts()\n",
    "total = len(df)\n",
    "percentages = (category_counts / total * 100).round(2)\n",
    "\n",
    "print(\"Distribution of recommendation categories:\")\n",
    "for category, percentage in percentages.items():\n",
    "    print(f\"{category}: {percentage}%\")\n",
    "\n",
    "# Create a pie chart\n",
    "plt.figure(figsize=(10, 8))\n",
    "colors = ['#008000', '#FFFF00', '#FFA500']\n",
    "explode = (0.1, 0, 0)  # Explode the 'Most Likely to Recommend' slice\n",
    "\n",
    "plt.pie(percentages, labels=percentages.index, autopct='%1.1f%%',\n",
    "        startangle=90, colors=colors, explode=explode, shadow=True)\n",
    "\n",
    "plt.title('Likelihood of Recommendation', fontsize=20, pad=20)\n",
    "plt.axis('equal')  # Equal aspect ratio ensures that pie is drawn as a circle\n",
    "\n",
    "# Add a legend\n",
    "plt.legend(percentages.index, title=\"Categories\", loc=\"center left\", bbox_to_anchor=(1, 0, 0.5, 1))\n",
    "\n",
    "plt.tight_layout()\n",
    "plt.show()"
   ]
  },
  {
   "cell_type": "code",
   "execution_count": null,
   "id": "2325c17f-ac40-428f-975c-1c00f7c80820",
   "metadata": {},
   "outputs": [],
   "source": []
  }
 ],
 "metadata": {
  "kernelspec": {
   "display_name": "Python 3 (ipykernel)",
   "language": "python",
   "name": "python3"
  },
  "language_info": {
   "codemirror_mode": {
    "name": "ipython",
    "version": 3
   },
   "file_extension": ".py",
   "mimetype": "text/x-python",
   "name": "python",
   "nbconvert_exporter": "python",
   "pygments_lexer": "ipython3",
   "version": "3.11.0"
  }
 },
 "nbformat": 4,
 "nbformat_minor": 5
}
